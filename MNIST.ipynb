{
  "nbformat": 4,
  "nbformat_minor": 0,
  "metadata": {
    "accelerator": "GPU",
    "colab": {
      "name": "Final_Project_Codes.ipynb",
      "provenance": [],
      "collapsed_sections": [],
      "toc_visible": true,
      "include_colab_link": true
    },
    "kernelspec": {
      "display_name": "Python 3",
      "language": "python",
      "name": "python3"
    },
    "language_info": {
      "codemirror_mode": {
        "name": "ipython",
        "version": 3
      },
      "file_extension": ".py",
      "mimetype": "text/x-python",
      "name": "python",
      "nbconvert_exporter": "python",
      "pygments_lexer": "ipython3",
      "version": "3.7.3"
    }
  },
  "cells": [
    {
      "cell_type": "markdown",
      "metadata": {
        "id": "view-in-github",
        "colab_type": "text"
      },
      "source": [
        "<a href=\"https://colab.research.google.com/github/Daeijavad/MNIST/blob/main/MNIST.ipynb\" target=\"_parent\"><img src=\"https://colab.research.google.com/assets/colab-badge.svg\" alt=\"Open In Colab\"/></a>"
      ]
    },
    {
      "cell_type": "markdown",
      "metadata": {
        "id": "VkuqNbbW_Aw4"
      },
      "source": [
        "# Pattern Recognition in MNIST dataset Using 5 Methods\n",
        "### Methods Include SVM, K-nearest neighborhood, Decision Tree, Random Forest And MLP\n",
        "### Also Feature Extraction and Feature Selection Has Been Applyed"
      ]
    },
    {
      "cell_type": "code",
      "metadata": {
        "id": "BwtTYufK--W0"
      },
      "source": [
        "%matplotlib inline\n",
        "\n",
        "import numpy as np\n",
        "\n",
        "import sklearn\n",
        "from sklearn.datasets import fetch_openml\n",
        "from sklearn import svm, decomposition, feature_selection, neighbors\n",
        "from sklearn.tree import DecisionTreeClassifier, export_graphviz\n",
        "from sklearn.ensemble import RandomForestClassifier\n",
        "from sklearn.metrics import accuracy_score, confusion_matrix, classification_report\n",
        "from sklearn.model_selection import train_test_split\n",
        "\n",
        "from skimage.measure import block_reduce\n",
        "from skimage.feature import canny\n",
        "\n",
        "import matplotlib.pyplot as plt\n",
        "import graphviz\n",
        "import seaborn as sns\n",
        "sns.set()"
      ],
      "execution_count": null,
      "outputs": []
    },
    {
      "cell_type": "markdown",
      "metadata": {
        "id": "n6zSqR-SA4zv"
      },
      "source": [
        "# 1.   Feature Extraction\n",
        "\n"
      ]
    },
    {
      "cell_type": "code",
      "metadata": {
        "id": "4yGtqgHGL4Ds"
      },
      "source": [
        "X, y = fetch_openml('mnist_784', version=1, return_X_y=True)\n",
        "X_train, X_test, y_train, y_test = train_test_split(X, y, test_size=10000, shuffle=True)"
      ],
      "execution_count": null,
      "outputs": []
    },
    {
      "cell_type": "code",
      "metadata": {
        "colab": {
          "base_uri": "https://localhost:8080/",
          "height": 101
        },
        "id": "9Lxv1136RS-X",
        "outputId": "5988ae78-4cff-40fc-8b40-3c064cb508b3"
      },
      "source": [
        "print('MNIST data loaded: train:',len(X_train),'test:',len(X_test))\n",
        "print('X_train:', X_train.shape)\n",
        "print('y_train:', y_train.shape)\n",
        "print('X_test', X_test.shape)\n",
        "print('y_test', y_test.shape)"
      ],
      "execution_count": null,
      "outputs": [
        {
          "name": "stdout",
          "output_type": "stream",
          "text": [
            "MNIST data loaded: train: 60000 test: 10000\n",
            "X_train: (60000, 784)\n",
            "y_train: (60000,)\n",
            "X_test (10000, 784)\n",
            "y_test (10000,)\n"
          ]
        }
      ]
    },
    {
      "cell_type": "markdown",
      "metadata": {
        "id": "mYhS4mHaRccp"
      },
      "source": [
        "## 1.1. PCA"
      ]
    },
    {
      "cell_type": "markdown",
      "metadata": {
        "id": "jfm0NavQfZB0"
      },
      "source": [
        "we use PCA for MLP"
      ]
    },
    {
      "cell_type": "code",
      "metadata": {
        "colab": {
          "base_uri": "https://localhost:8080/",
          "height": 34
        },
        "id": "fe8jDy3ARgTU",
        "outputId": "48fa5272-b34a-4a5d-8161-ecfa4b47aa87"
      },
      "source": [
        "n_components = 75\n",
        "pca = decomposition.PCA(n_components=n_components, whiten=True)\n",
        "X_train_pca = pca.fit_transform(X_train)\n",
        "print('X_pca:', X_train_pca.shape)"
      ],
      "execution_count": null,
      "outputs": [
        {
          "name": "stdout",
          "output_type": "stream",
          "text": [
            "X_pca: (60000, 75)\n"
          ]
        }
      ]
    },
    {
      "cell_type": "code",
      "metadata": {
        "colab": {
          "base_uri": "https://localhost:8080/",
          "height": 301
        },
        "id": "JjcsCaY8TD_Z",
        "outputId": "9ee8e0df-7199-4664-ca9b-cadf3a88ef4a"
      },
      "source": [
        "plt.figure()\n",
        "plt.plot(np.arange(n_components)+1, pca.explained_variance_)\n",
        "plt.title('Explained variance by PCA components')\n",
        "plt.ylabel('explained variance')\n",
        "plt.xlabel('PCA component');"
      ],
      "execution_count": null,
      "outputs": [
        {
          "data": {
            "image/png": "[encoded data removed]",
            "text/plain": [
              "<Figure size 432x288 with 1 Axes>"
            ]
          },
          "metadata": {
            "tags": []
          },
          "output_type": "display_data"
        }
      ]
    },
    {
      "cell_type": "markdown",
      "metadata": {
        "id": "4BUI7r3OiCGf"
      },
      "source": [
        "## 1.2.  Canny filter\n",
        "\n",
        "in this part we first downsample images to have size = (14,14)\n",
        "then we apply canny filter\n",
        "\n",
        "we use it in 1-Nearest Neighborhood"
      ]
    },
    {
      "cell_type": "code",
      "metadata": {
        "colab": {
          "base_uri": "https://localhost:8080/",
          "height": 50
        },
        "id": "vJD49UeEiPvK",
        "outputId": "7d2eab71-7ae1-4854-8a9d-ccd48eba2701"
      },
      "source": [
        "X_train_img = X_train.reshape(-1, 28, 28)\n",
        "X_test_img = X_test.reshape(-1, 28, 28)\n",
        "filter_size = 2\n",
        "X_train_img_downsampled = block_reduce(X_train_img,  block_size=(1, filter_size, filter_size), func=np.mean)\n",
        "X_test_img_downsampled = block_reduce(X_test_img,  block_size=(1, filter_size, filter_size), func=np.mean)\n",
        "\n",
        "print('X_train_img:', X_train_img.shape)\n",
        "print('X_train_img_downsampled:', X_train_img_downsampled.shape)"
      ],
      "execution_count": null,
      "outputs": [
        {
          "name": "stdout",
          "output_type": "stream",
          "text": [
            "X_train_img: (60000, 28, 28)\n",
            "X_train_img_downsampled: (60000, 14, 14)\n"
          ]
        }
      ]
    },
    {
      "cell_type": "code",
      "metadata": {
        "colab": {
          "base_uri": "https://localhost:8080/",
          "height": 34
        },
        "id": "SFSe8AtRVoLe",
        "outputId": "4aeda623-3970-43de-9e46-87a3b59475e6"
      },
      "source": [
        "sigma = 1.0\n",
        "X_train_img_canny = np.zeros(X_train_img.shape)\n",
        "X_test_img_canny = np.zeros(X_test_img.shape)\n",
        "for i in range(X_train_img.shape[0]):\n",
        "    X_train_img_canny[i,:,:] = canny(X_train_img[i,:,:], sigma=sigma)\n",
        "for i in range(X_test_img.shape[0]):\n",
        "    X_test_img_canny[i,:,:] = canny(X_test_img[i,:,:], sigma=sigma)\n",
        "print('X_train_img_canny:', X_train_img_canny.shape)"
      ],
      "execution_count": null,
      "outputs": [
        {
          "name": "stdout",
          "output_type": "stream",
          "text": [
            "X_train_img_canny: (60000, 28, 28)\n"
          ]
        }
      ]
    },
    {
      "cell_type": "code",
      "metadata": {
        "colab": {
          "base_uri": "https://localhost:8080/",
          "height": 242
        },
        "id": "UlFY_pctVxPY",
        "outputId": "b4a62321-25ea-406c-b3ea-68991b3a92d3"
      },
      "source": [
        "pltsize=1\n",
        "\n",
        "plt.figure(figsize=(10*pltsize, pltsize))\n",
        "plt.suptitle('Original')\n",
        "plt.subplots_adjust(top=0.8)\n",
        "for i in range(10):\n",
        "    plt.subplot(1,10,i+1)\n",
        "    plt.axis('off')\n",
        "    plt.imshow(X_train_img[i,:,:], cmap=\"gray\", interpolation='none')\n",
        "\n",
        "plt.figure(figsize=(10*pltsize, pltsize))\n",
        "plt.suptitle('Downsampled with a %dx%d filter' % (filter_size, filter_size))\n",
        "plt.subplots_adjust(top=0.8)\n",
        "for i in range(10):\n",
        "    plt.subplot(1,10,i+1)\n",
        "    plt.axis('off')\n",
        "    plt.imshow(X_train_img_downsampled[i,:,:], cmap=\"gray\", interpolation='none')\n",
        "    \n",
        "plt.figure(figsize=(10*pltsize, pltsize))\n",
        "plt.suptitle('Canny edge detection with sigma=%.2f' % sigma)\n",
        "plt.subplots_adjust(top=0.8)\n",
        "for i in range(10):\n",
        "    plt.subplot(1,10,i+1)\n",
        "    plt.axis('off')\n",
        "    plt.imshow(X_train_img_canny[i,:,:], cmap=\"gray\", interpolation='none')"
      ],
      "execution_count": null,
      "outputs": [
        {
          "data": {
            "image/png": "[encoded data removed]",
            "text/plain": [
              "<Figure size 720x72 with 10 Axes>"
            ]
          },
          "metadata": {
            "tags": []
          },
          "output_type": "display_data"
        },
        {
          "data": {
            "image/png": "[encoded data removed]",
            "text/plain": [
              "<Figure size 720x72 with 10 Axes>"
            ]
          },
          "metadata": {
            "tags": []
          },
          "output_type": "display_data"
        },
        {
          "data": {
            "image/png": "[encoded data removed]",
            "text/plain": [
              "<Figure size 720x72 with 10 Axes>"
            ]
          },
          "metadata": {
            "tags": []
          },
          "output_type": "display_data"
        }
      ]
    },
    {
      "cell_type": "markdown",
      "metadata": {
        "id": "zeAxWnDujbLc"
      },
      "source": [
        "# 2. Feature Selection\n",
        "removing \"Low Variance\" components\n",
        "\n",
        "we use it in SVM"
      ]
    },
    {
      "cell_type": "code",
      "metadata": {
        "colab": {
          "base_uri": "https://localhost:8080/",
          "height": 318
        },
        "id": "Z268dGwnYPvc",
        "outputId": "40139641-ab8e-48f6-b1ec-37ca63f6beff"
      },
      "source": [
        "variances = np.var(X_train, axis=0)\n",
        "plt.figure()\n",
        "plt.plot(variances)\n",
        "plt.title('Component-wise variance of MNIST digits')\n",
        "plt.ylabel('variance')\n",
        "plt.xlabel('component')"
      ],
      "execution_count": null,
      "outputs": [
        {
          "data": {
            "text/plain": [
              "Text(0.5, 0, 'component')"
            ]
          },
          "execution_count": 9,
          "metadata": {
            "tags": []
          },
          "output_type": "execute_result"
        },
        {
          "data": {
            "image/png": "[encoded data removed]",
            "text/plain": [
              "<Figure size 432x288 with 1 Axes>"
            ]
          },
          "metadata": {
            "tags": []
          },
          "output_type": "display_data"
        }
      ]
    },
    {
      "cell_type": "code",
      "metadata": {
        "colab": {
          "base_uri": "https://localhost:8080/",
          "height": 284
        },
        "id": "D_PxXDGikRb3",
        "outputId": "60e65627-b933-400d-accd-62376c4f77be"
      },
      "source": [
        "plt.figure()\n",
        "sns.heatmap(variances.reshape(28,28), cmap=sns.color_palette(\"Blues\"))\n",
        "plt.title('Pixel-wise variance of MNIST digits')\n",
        "plt.grid(False)"
      ],
      "execution_count": null,
      "outputs": [
        {
          "data": {
            "image/png": "[encoded data removed]",
            "text/plain": [
              "<Figure size 432x288 with 2 Axes>"
            ]
          },
          "metadata": {
            "tags": []
          },
          "output_type": "display_data"
        }
      ]
    },
    {
      "cell_type": "code",
      "metadata": {
        "colab": {
          "base_uri": "https://localhost:8080/",
          "height": 34
        },
        "id": "j1F7fH43kY3Z",
        "outputId": "9f913998-0748-411b-d4e1-9c154c032e75"
      },
      "source": [
        "variance_threshold = 1000\n",
        "lv = feature_selection.VarianceThreshold(threshold=variance_threshold)\n",
        "X_train_lv = lv.fit_transform(X_train)\n",
        "print('X_lv:', X_train_lv.shape)"
      ],
      "execution_count": null,
      "outputs": [
        {
          "name": "stdout",
          "output_type": "stream",
          "text": [
            "X_lv: (60000, 411)\n"
          ]
        }
      ]
    },
    {
      "cell_type": "markdown",
      "metadata": {
        "id": "_P4SXuaomezz"
      },
      "source": [
        "# 3. SVM"
      ]
    },
    {
      "cell_type": "code",
      "metadata": {
        "colab": {
          "base_uri": "https://localhost:8080/",
          "height": 138
        },
        "id": "e54P7KPOoxnk",
        "outputId": "47679677-8b09-41d5-c9c8-7e3e50874972"
      },
      "source": [
        "C = 1.0\n",
        "clf_lsvm = svm.LinearSVC(C=C)\n",
        "clf_lsvm.fit(X_train_lv, y_train)"
      ],
      "execution_count": null,
      "outputs": [
        {
          "name": "stderr",
          "output_type": "stream",
          "text": [
            "/usr/local/lib/python3.6/dist-packages/sklearn/svm/_base.py:947: ConvergenceWarning: Liblinear failed to converge, increase the number of iterations.\n",
            "  \"the number of iterations.\", ConvergenceWarning)\n"
          ]
        },
        {
          "data": {
            "text/plain": [
              "LinearSVC(C=1.0, class_weight=None, dual=True, fit_intercept=True,\n",
              "          intercept_scaling=1, loss='squared_hinge', max_iter=1000,\n",
              "          multi_class='ovr', penalty='l2', random_state=None, tol=0.0001,\n",
              "          verbose=0)"
            ]
          },
          "execution_count": 12,
          "metadata": {
            "tags": []
          },
          "output_type": "execute_result"
        }
      ]
    },
    {
      "cell_type": "code",
      "metadata": {
        "colab": {
          "base_uri": "https://localhost:8080/",
          "height": 34
        },
        "id": "OyHNCDVAs6UQ",
        "outputId": "bea85656-49dd-4457-cd24-e1fff2113813"
      },
      "source": [
        "X_test_lv = lv.transform(X_test)\n",
        "pred_lsvm = clf_lsvm.predict(X_test_lv)\n",
        "print('Predicted', len(pred_lsvm), 'digits with accuracy:', accuracy_score(y_test, pred_lsvm))"
      ],
      "execution_count": null,
      "outputs": [
        {
          "name": "stdout",
          "output_type": "stream",
          "text": [
            "Predicted 10000 digits with accuracy: 0.8121\n"
          ]
        }
      ]
    },
    {
      "cell_type": "code",
      "metadata": {
        "colab": {
          "base_uri": "https://localhost:8080/",
          "height": 498
        },
        "id": "U_DTJNvNt1JU",
        "outputId": "2272faab-9336-4c05-f6b2-d8497f7f8cd5"
      },
      "source": [
        "labels=[str(i) for i in range(10)]\n",
        "print('Confusion matrix (rows: true classes; columns: predicted classes):'); print()\n",
        "cm=confusion_matrix(y_test, pred_lsvm, labels=labels)\n",
        "print(cm); print()\n",
        "plt.matshow(cm, cmap=plt.cm.gray)\n",
        "plt.xticks(range(10))\n",
        "plt.yticks(range(10))\n",
        "plt.grid(None)\n",
        "plt.show()"
      ],
      "execution_count": null,
      "outputs": [
        {
          "name": "stdout",
          "output_type": "stream",
          "text": [
            "Confusion matrix (rows: true classes; columns: predicted classes):\n",
            "\n",
            "[[ 928    0    6    8    3   27    6    1    0   15]\n",
            " [   0 1047   14    4    1    7    0    3    2   19]\n",
            " [   9   13  864   60   21   11   15   24    7   21]\n",
            " [   1    5   31  871    2   44    0    6    4   54]\n",
            " [   2    0    2    0  827    7    3    1    0  120]\n",
            " [  13    1   10   53   16  709   10    6    3   82]\n",
            " [   7    2   21    3   23   44  843    0    1    3]\n",
            " [   6    2    5   10    5    5    0  872    0  153]\n",
            " [   5   30   39  111   21  182   12    4  204  364]\n",
            " [   5    0    0    9   21    5    0    7    1  956]]\n",
            "\n"
          ]
        },
        {
          "data": {
            "image/png": "[encoded data removed]",
            "text/plain": [
              "<Figure size 288x288 with 1 Axes>"
            ]
          },
          "metadata": {
            "tags": []
          },
          "output_type": "display_data"
        }
      ]
    },
    {
      "cell_type": "code",
      "metadata": {
        "colab": {
          "base_uri": "https://localhost:8080/",
          "height": 470
        },
        "id": "JZs3siMlt8D5",
        "outputId": "e1d9978f-f234-44c7-f8a8-dd6e090abde5"
      },
      "source": [
        "for i,j in enumerate(cm.diagonal()/cm.sum(axis=1)): print(\"%d: %.4f\" % (i,j))\n",
        "print(classification_report(y_test, pred_lsvm, labels=labels))"
      ],
      "execution_count": null,
      "outputs": [
        {
          "name": "stdout",
          "output_type": "stream",
          "text": [
            "0: 0.9336\n",
            "1: 0.9544\n",
            "2: 0.8268\n",
            "3: 0.8556\n",
            "4: 0.8597\n",
            "5: 0.7852\n",
            "6: 0.8902\n",
            "7: 0.8242\n",
            "8: 0.2099\n",
            "9: 0.9522\n",
            "              precision    recall  f1-score   support\n",
            "\n",
            "           0       0.95      0.93      0.94       994\n",
            "           1       0.95      0.95      0.95      1097\n",
            "           2       0.87      0.83      0.85      1045\n",
            "           3       0.77      0.86      0.81      1018\n",
            "           4       0.88      0.86      0.87       962\n",
            "           5       0.68      0.79      0.73       903\n",
            "           6       0.95      0.89      0.92       947\n",
            "           7       0.94      0.82      0.88      1058\n",
            "           8       0.92      0.21      0.34       972\n",
            "           9       0.53      0.95      0.69      1004\n",
            "\n",
            "    accuracy                           0.81     10000\n",
            "   macro avg       0.85      0.81      0.80     10000\n",
            "weighted avg       0.85      0.81      0.80     10000\n",
            "\n"
          ]
        }
      ]
    },
    {
      "cell_type": "markdown",
      "metadata": {
        "id": "_zadOTYQvZUV"
      },
      "source": [
        "# 4. 1-Nearest Neighborhood\n",
        "\n",
        "\n"
      ]
    },
    {
      "cell_type": "code",
      "metadata": {
        "colab": {
          "base_uri": "https://localhost:8080/",
          "height": 67
        },
        "id": "3FW5klOZvKbg",
        "outputId": "6bd165f7-2974-423e-b2b0-35c28d8ce66b"
      },
      "source": [
        "n_neighbors = 1\n",
        "clf_nn = neighbors.KNeighborsClassifier(n_neighbors)\n",
        "clf_nn.fit(X_train_img_canny.reshape(X_train_img_canny.shape[0],X_train_img_canny.shape[1]*X_train_img_canny.shape[2]), y_train)"
      ],
      "execution_count": null,
      "outputs": [
        {
          "data": {
            "text/plain": [
              "KNeighborsClassifier(algorithm='auto', leaf_size=30, metric='minkowski',\n",
              "                     metric_params=None, n_jobs=None, n_neighbors=1, p=2,\n",
              "                     weights='uniform')"
            ]
          },
          "execution_count": 16,
          "metadata": {
            "tags": []
          },
          "output_type": "execute_result"
        }
      ]
    },
    {
      "cell_type": "code",
      "metadata": {
        "id": "G2rVF4opw1E_"
      },
      "source": [
        "pred_nn = clf_nn.predict(X_test_img_canny.reshape(X_test_img_canny.shape[0],X_test_img_canny.shape[1]*X_test_img_canny.shape[2]))"
      ],
      "execution_count": null,
      "outputs": []
    },
    {
      "cell_type": "code",
      "metadata": {
        "colab": {
          "base_uri": "https://localhost:8080/",
          "height": 34
        },
        "id": "tSZbdUzMx70H",
        "outputId": "a60f725d-4f6a-45b6-9219-afc75ccc23b4"
      },
      "source": [
        "print('Predicted', len(pred_nn), 'digits with accuracy:',\n",
        "      accuracy_score(y_test[:len(pred_nn)], pred_nn))"
      ],
      "execution_count": null,
      "outputs": [
        {
          "name": "stdout",
          "output_type": "stream",
          "text": [
            "Predicted 10000 digits with accuracy: 0.9173\n"
          ]
        }
      ]
    },
    {
      "cell_type": "code",
      "metadata": {
        "colab": {
          "base_uri": "https://localhost:8080/",
          "height": 498
        },
        "id": "e1E6QwM9yBT-",
        "outputId": "c5a21cb9-4bfd-494c-fcc3-9e1524fe8b98"
      },
      "source": [
        "print('Confusion matrix (rows: true classes; columns: predicted classes):'); print()\n",
        "cm=confusion_matrix(y_test, pred_nn, labels=labels)\n",
        "print(cm); print()\n",
        "plt.matshow(cm, cmap=plt.cm.gray)\n",
        "plt.xticks(range(10))\n",
        "plt.yticks(range(10))\n",
        "plt.grid(None)\n",
        "plt.show()"
      ],
      "execution_count": null,
      "outputs": [
        {
          "name": "stdout",
          "output_type": "stream",
          "text": [
            "Confusion matrix (rows: true classes; columns: predicted classes):\n",
            "\n",
            "[[ 977    1    0    2    0    2    6    2    2    2]\n",
            " [   0 1087    2    1    1    0    2    2    0    2]\n",
            " [  11   34  938   15    3    1    6   27    7    3]\n",
            " [   3    7   18  912    0   42    3   13   12    8]\n",
            " [   0   18    1    0  879    0    5    8    0   51]\n",
            " [   8    3    4   56    4  788   18    4    3   15]\n",
            " [  14    3    0    1    2    9  917    0    1    0]\n",
            " [   0   18    4    0    4    0    0 1012    1   19]\n",
            " [  14   24   11   37    9   42    8    5  796   26]\n",
            " [   5    2    2    7   40    4    1   76    0  867]]\n",
            "\n"
          ]
        },
        {
          "data": {
            "image/png": "[encoded data removed]",
            "text/plain": [
              "<Figure size 288x288 with 1 Axes>"
            ]
          },
          "metadata": {
            "tags": []
          },
          "output_type": "display_data"
        }
      ]
    },
    {
      "cell_type": "code",
      "metadata": {
        "colab": {
          "base_uri": "https://localhost:8080/",
          "height": 470
        },
        "id": "n48AR_ozy3gv",
        "outputId": "9117b743-c0e1-4f24-ba29-98038ba02444"
      },
      "source": [
        "for i,j in enumerate(cm.diagonal()/cm.sum(axis=1)): print(\"%d: %.4f\" % (i,j))\n",
        "print(classification_report(y_test, pred_nn, labels=labels))"
      ],
      "execution_count": null,
      "outputs": [
        {
          "name": "stdout",
          "output_type": "stream",
          "text": [
            "0: 0.9829\n",
            "1: 0.9909\n",
            "2: 0.8976\n",
            "3: 0.8959\n",
            "4: 0.9137\n",
            "5: 0.8726\n",
            "6: 0.9683\n",
            "7: 0.9565\n",
            "8: 0.8189\n",
            "9: 0.8635\n",
            "              precision    recall  f1-score   support\n",
            "\n",
            "           0       0.95      0.98      0.96       994\n",
            "           1       0.91      0.99      0.95      1097\n",
            "           2       0.96      0.90      0.93      1045\n",
            "           3       0.88      0.90      0.89      1018\n",
            "           4       0.93      0.91      0.92       962\n",
            "           5       0.89      0.87      0.88       903\n",
            "           6       0.95      0.97      0.96       947\n",
            "           7       0.88      0.96      0.92      1058\n",
            "           8       0.97      0.82      0.89       972\n",
            "           9       0.87      0.86      0.87      1004\n",
            "\n",
            "    accuracy                           0.92     10000\n",
            "   macro avg       0.92      0.92      0.92     10000\n",
            "weighted avg       0.92      0.92      0.92     10000\n",
            "\n"
          ]
        }
      ]
    },
    {
      "cell_type": "markdown",
      "metadata": {
        "id": "fGtHF_Y_y0ZD"
      },
      "source": [
        "# 5. Decision Tree"
      ]
    },
    {
      "cell_type": "code",
      "metadata": {
        "colab": {
          "base_uri": "https://localhost:8080/",
          "height": 118
        },
        "id": "2uzT4WRlCBTK",
        "outputId": "cd4eb98e-4ae0-4033-9b6a-ed64cd1e00bd"
      },
      "source": [
        "clf_dt = DecisionTreeClassifier()\n",
        "clf_dt.fit(X_train, y_train)"
      ],
      "execution_count": null,
      "outputs": [
        {
          "data": {
            "text/plain": [
              "DecisionTreeClassifier(ccp_alpha=0.0, class_weight=None, criterion='gini',\n",
              "                       max_depth=None, max_features=None, max_leaf_nodes=None,\n",
              "                       min_impurity_decrease=0.0, min_impurity_split=None,\n",
              "                       min_samples_leaf=1, min_samples_split=2,\n",
              "                       min_weight_fraction_leaf=0.0, presort='deprecated',\n",
              "                       random_state=None, splitter='best')"
            ]
          },
          "execution_count": 21,
          "metadata": {
            "tags": []
          },
          "output_type": "execute_result"
        }
      ]
    },
    {
      "cell_type": "code",
      "metadata": {
        "colab": {
          "base_uri": "https://localhost:8080/",
          "height": 34
        },
        "id": "qs5TGyw-YxVD",
        "outputId": "9a32b860-6a07-4c0a-9c04-0d12d548d12c"
      },
      "source": [
        "pred_dt = clf_dt.predict(X_test)\n",
        "print('Predicted', len(pred_dt), 'digits with accuracy:', accuracy_score(y_test, pred_dt))"
      ],
      "execution_count": null,
      "outputs": [
        {
          "name": "stdout",
          "output_type": "stream",
          "text": [
            "Predicted 10000 digits with accuracy: 0.8746\n"
          ]
        }
      ]
    },
    {
      "cell_type": "markdown",
      "metadata": {
        "id": "fFsBlw8hZDcs"
      },
      "source": [
        "# 6. Random Forest"
      ]
    },
    {
      "cell_type": "code",
      "metadata": {
        "colab": {
          "base_uri": "https://localhost:8080/",
          "height": 151
        },
        "id": "-IFvlK4OZHP_",
        "outputId": "507434ab-cab5-4e83-b125-6e5b636dfb21"
      },
      "source": [
        "n_estimators = 10\n",
        "clf_rf = RandomForestClassifier(n_estimators=n_estimators)\n",
        "clf_rf.fit(X_train, y_train)"
      ],
      "execution_count": null,
      "outputs": [
        {
          "data": {
            "text/plain": [
              "RandomForestClassifier(bootstrap=True, ccp_alpha=0.0, class_weight=None,\n",
              "                       criterion='gini', max_depth=None, max_features='auto',\n",
              "                       max_leaf_nodes=None, max_samples=None,\n",
              "                       min_impurity_decrease=0.0, min_impurity_split=None,\n",
              "                       min_samples_leaf=1, min_samples_split=2,\n",
              "                       min_weight_fraction_leaf=0.0, n_estimators=10,\n",
              "                       n_jobs=None, oob_score=False, random_state=None,\n",
              "                       verbose=0, warm_start=False)"
            ]
          },
          "execution_count": 23,
          "metadata": {
            "tags": []
          },
          "output_type": "execute_result"
        }
      ]
    },
    {
      "cell_type": "code",
      "metadata": {
        "colab": {
          "base_uri": "https://localhost:8080/",
          "height": 34
        },
        "id": "tgz8NMp-ZNf-",
        "outputId": "8b658b7c-eb64-4a50-c18d-e1419e128304"
      },
      "source": [
        "pred_rf = clf_rf.predict(X_test)\n",
        "print('Predicted', len(pred_rf), 'digits with accuracy:', accuracy_score(y_test, pred_rf))"
      ],
      "execution_count": null,
      "outputs": [
        {
          "name": "stdout",
          "output_type": "stream",
          "text": [
            "Predicted 10000 digits with accuracy: 0.9482\n"
          ]
        }
      ]
    },
    {
      "cell_type": "code",
      "metadata": {
        "colab": {
          "base_uri": "https://localhost:8080/",
          "height": 269
        },
        "id": "a1wiAy5sZQXg",
        "outputId": "cbb43e9d-fcb8-4807-88a3-9786cc9d3e7f"
      },
      "source": [
        "labels=[str(i) for i in range(10)]\n",
        "print('Confusion matrix (rows: true classes; columns: predicted classes):'); print()\n",
        "cm=confusion_matrix(y_test, pred_rf, labels=labels)\n",
        "print(cm); print()\n",
        "\n",
        "print('Classification accuracy for each class:'); print()"
      ],
      "execution_count": null,
      "outputs": [
        {
          "name": "stdout",
          "output_type": "stream",
          "text": [
            "Confusion matrix (rows: true classes; columns: predicted classes):\n",
            "\n",
            "[[ 971    0    3    3    1    3    6    2    4    1]\n",
            " [   0 1072    7    4    1    0    2    4    4    3]\n",
            " [   3    3  994    8    5    3    8   11    8    2]\n",
            " [   4    3   26  944    2   14    2    9    9    5]\n",
            " [   2    0    3    1  932    0    3    3    2   16]\n",
            " [   5    1    4   26    3  843    4    2    8    7]\n",
            " [   5    2    8    2    4   15  906    0    5    0]\n",
            " [   4    6   10    2    6    1    0 1016    0   13]\n",
            " [   8    5   18   15    6   14   12    0  882   12]\n",
            " [   4    3    4   11   26   10    1   12   11  922]]\n",
            "\n",
            "Classification accuracy for each class:\n",
            "\n"
          ]
        }
      ]
    },
    {
      "cell_type": "code",
      "metadata": {
        "colab": {
          "base_uri": "https://localhost:8080/",
          "height": 470
        },
        "id": "e4PpNtNHZWex",
        "outputId": "30c79a2e-24dd-4eb2-dc5c-0f5271fec0c8"
      },
      "source": [
        "for i,j in enumerate(cm.diagonal()/cm.sum(axis=1)): print(\"%d: %.4f\" % (i,j))\n",
        "print(classification_report(y_test, pred_rf, labels=labels))"
      ],
      "execution_count": null,
      "outputs": [
        {
          "name": "stdout",
          "output_type": "stream",
          "text": [
            "0: 0.9769\n",
            "1: 0.9772\n",
            "2: 0.9512\n",
            "3: 0.9273\n",
            "4: 0.9688\n",
            "5: 0.9336\n",
            "6: 0.9567\n",
            "7: 0.9603\n",
            "8: 0.9074\n",
            "9: 0.9183\n",
            "              precision    recall  f1-score   support\n",
            "\n",
            "           0       0.97      0.98      0.97       994\n",
            "           1       0.98      0.98      0.98      1097\n",
            "           2       0.92      0.95      0.94      1045\n",
            "           3       0.93      0.93      0.93      1018\n",
            "           4       0.95      0.97      0.96       962\n",
            "           5       0.93      0.93      0.93       903\n",
            "           6       0.96      0.96      0.96       947\n",
            "           7       0.96      0.96      0.96      1058\n",
            "           8       0.95      0.91      0.93       972\n",
            "           9       0.94      0.92      0.93      1004\n",
            "\n",
            "    accuracy                           0.95     10000\n",
            "   macro avg       0.95      0.95      0.95     10000\n",
            "weighted avg       0.95      0.95      0.95     10000\n",
            "\n"
          ]
        }
      ]
    },
    {
      "cell_type": "markdown",
      "metadata": {
        "id": "V5exQCcXZvq2"
      },
      "source": [
        "# 7. MLP"
      ]
    },
    {
      "cell_type": "code",
      "metadata": {
        "id": "d5UkaCgAZ0xs"
      },
      "source": [
        "import keras\n",
        "from keras.models import Sequential\n",
        "from keras.layers import Dense, Activation, Dropout"
      ],
      "execution_count": null,
      "outputs": []
    },
    {
      "cell_type": "code",
      "metadata": {
        "id": "NydNaErraHAn"
      },
      "source": [
        "X_test_pca = pca.fit_transform(X_test)\n",
        "\n",
        "# one-hot encoding:\n",
        "Y_train = keras.utils.to_categorical(y_train, 10)\n",
        "Y_test = keras.utils.to_categorical(y_test, 10)"
      ],
      "execution_count": null,
      "outputs": []
    },
    {
      "cell_type": "code",
      "metadata": {
        "colab": {
          "base_uri": "https://localhost:8080/",
          "height": 302
        },
        "id": "2iE-jXNfaTOR",
        "outputId": "5be70f5f-37a5-4504-abca-5148c0b346c3"
      },
      "source": [
        "# Model initialization:\n",
        "model = Sequential()\n",
        "\n",
        "model.add(Dense(units=100, input_dim=784))\n",
        "model.add(Activation('relu'))\n",
        "model.add(Dropout(0.4))\n",
        "model.add(Dense(units=10, activation='softmax'))\n",
        "\n",
        "model.compile(loss='categorical_crossentropy', \n",
        "              optimizer='adam', \n",
        "              metrics=['accuracy'])\n",
        "print(model.summary())"
      ],
      "execution_count": null,
      "outputs": [
        {
          "name": "stdout",
          "output_type": "stream",
          "text": [
            "Model: \"sequential_10\"\n",
            "_________________________________________________________________\n",
            "Layer (type)                 Output Shape              Param #   \n",
            "=================================================================\n",
            "dense_19 (Dense)             (None, 100)               78500     \n",
            "_________________________________________________________________\n",
            "activation_10 (Activation)   (None, 100)               0         \n",
            "_________________________________________________________________\n",
            "dropout_10 (Dropout)         (None, 100)               0         \n",
            "_________________________________________________________________\n",
            "dense_20 (Dense)             (None, 10)                1010      \n",
            "=================================================================\n",
            "Total params: 79,510\n",
            "Trainable params: 79,510\n",
            "Non-trainable params: 0\n",
            "_________________________________________________________________\n",
            "None\n"
          ]
        }
      ]
    },
    {
      "cell_type": "code",
      "metadata": {
        "colab": {
          "base_uri": "https://localhost:8080/",
          "height": 538
        },
        "id": "wvahFccvb0yM",
        "outputId": "5772229b-6a36-4c17-fcae-41b37e753cb7"
      },
      "source": [
        "history = model.fit(X_train, \n",
        "                    Y_train, \n",
        "                    epochs=15, \n",
        "                    validation_data=(X_test, Y_test),\n",
        "                    batch_size=32,\n",
        "                    verbose=2)"
      ],
      "execution_count": null,
      "outputs": [
        {
          "name": "stdout",
          "output_type": "stream",
          "text": [
            "Train on 60000 samples, validate on 10000 samples\n",
            "Epoch 1/15\n",
            " - 7s - loss: 7.8699 - acc: 0.5075 - val_loss: 5.7303 - val_acc: 0.6420\n",
            "Epoch 2/15\n",
            " - 6s - loss: 5.2753 - acc: 0.6698 - val_loss: 3.3241 - val_acc: 0.7925\n",
            "Epoch 3/15\n",
            " - 6s - loss: 3.9985 - acc: 0.7497 - val_loss: 3.2009 - val_acc: 0.8000\n",
            "Epoch 4/15\n",
            " - 6s - loss: 3.7749 - acc: 0.7641 - val_loss: 3.3755 - val_acc: 0.7888\n",
            "Epoch 5/15\n",
            " - 6s - loss: 3.5393 - acc: 0.7790 - val_loss: 3.0250 - val_acc: 0.8115\n",
            "Epoch 6/15\n",
            " - 6s - loss: 3.6156 - acc: 0.7743 - val_loss: 3.6428 - val_acc: 0.7728\n",
            "Epoch 7/15\n",
            " - 7s - loss: 3.3993 - acc: 0.7876 - val_loss: 2.4274 - val_acc: 0.8480\n",
            "Epoch 8/15\n",
            " - 6s - loss: 3.0135 - acc: 0.8115 - val_loss: 1.7436 - val_acc: 0.8908\n",
            "Epoch 9/15\n",
            " - 6s - loss: 2.7691 - acc: 0.8269 - val_loss: 2.0442 - val_acc: 0.8721\n",
            "Epoch 10/15\n",
            " - 6s - loss: 2.5531 - acc: 0.8403 - val_loss: 1.6915 - val_acc: 0.8943\n",
            "Epoch 11/15\n",
            " - 7s - loss: 2.4079 - acc: 0.8492 - val_loss: 1.6931 - val_acc: 0.8941\n",
            "Epoch 12/15\n",
            " - 6s - loss: 2.4144 - acc: 0.8489 - val_loss: 1.7413 - val_acc: 0.8911\n",
            "Epoch 13/15\n",
            " - 6s - loss: 2.1769 - acc: 0.8640 - val_loss: 1.4945 - val_acc: 0.9068\n",
            "Epoch 14/15\n",
            " - 6s - loss: 2.2835 - acc: 0.8573 - val_loss: 1.8197 - val_acc: 0.8865\n",
            "Epoch 15/15\n",
            " - 6s - loss: 2.2906 - acc: 0.8570 - val_loss: 1.4196 - val_acc: 0.9112\n"
          ]
        }
      ]
    },
    {
      "cell_type": "code",
      "metadata": {
        "colab": {
          "base_uri": "https://localhost:8080/",
          "height": 441
        },
        "id": "j4Bn6Vj9cA79",
        "outputId": "ad5440f5-f8e7-4f02-9387-e7b8763860c2"
      },
      "source": [
        "plt.figure(figsize=(5,3))\n",
        "plt.plot(history.epoch,history.history['loss'])\n",
        "plt.title('loss')\n",
        "\n",
        "plt.figure(figsize=(5,3))\n",
        "plt.plot(history.epoch,history.history['acc'])\n",
        "plt.title('accuracy');"
      ],
      "execution_count": null,
      "outputs": [
        {
          "data": {
            "image/png": "[encoded data removed]",
            "text/plain": [
              "<Figure size 360x216 with 1 Axes>"
            ]
          },
          "metadata": {
            "tags": []
          },
          "output_type": "display_data"
        },
        {
          "data": {
            "image/png": "[encoded data removed]",
            "text/plain": [
              "<Figure size 360x216 with 1 Axes>"
            ]
          },
          "metadata": {
            "tags": []
          },
          "output_type": "display_data"
        }
      ]
    }
  ]
}